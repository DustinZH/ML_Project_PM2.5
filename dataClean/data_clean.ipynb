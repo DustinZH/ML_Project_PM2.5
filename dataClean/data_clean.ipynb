{
 "cells": [
  {
   "cell_type": "code",
   "execution_count": 2,
   "metadata": {
    "collapsed": true
   },
   "outputs": [],
   "source": [
    "import pandas as pd\n",
    "import numpy as np"
   ]
  },
  {
   "cell_type": "markdown",
   "metadata": {},
   "source": [
    "## Data extraction and clean\n",
    "#### Our original data source has 2 millions rows, some of them have missing or invalid data"
   ]
  },
  {
   "cell_type": "code",
   "execution_count": 3,
   "metadata": {},
   "outputs": [
    {
     "name": "stderr",
     "output_type": "stream",
     "text": [
      "/home/hadoop/anaconda3/lib/python3.6/site-packages/IPython/core/interactiveshell.py:2717: DtypeWarning: Columns (6,7,8,9,10,11,12,13,15,16) have mixed types. Specify dtype option on import or set low_memory=False.\n",
      "  interactivity=interactivity, compiler=compiler, result=result)\n"
     ]
    }
   ],
   "source": [
    "df_total = pd.read_csv(\"../dataSet/aqi_hourly_to_2016-02-04.csv\")"
   ]
  },
  {
   "cell_type": "markdown",
   "metadata": {},
   "source": [
    "### Data Extract \n",
    "We only use  100000 rows for our project"
   ]
  },
  {
   "cell_type": "code",
   "execution_count": 4,
   "metadata": {
    "collapsed": true
   },
   "outputs": [],
   "source": [
    "# get apart of data \n",
    "df =  df_total.head(100000)"
   ]
  },
  {
   "cell_type": "markdown",
   "metadata": {},
   "source": [
    "## Data Clean\n",
    "The reason we need clean data is because some missing data has value \"-\" and some data has value NaN"
   ]
  },
  {
   "cell_type": "code",
   "execution_count": 6,
   "metadata": {
    "collapsed": true
   },
   "outputs": [],
   "source": [
    "# function to change dataframe to array and remove missing/NaN data.\n",
    "def data_clean(dfdata):\n",
    "    data = np.array(dfdata[['pm25','pm10','o3','no2','so2','co','temperature','dewpoint','pressure','humidity','wind']])\n",
    "    rows = data.shape[0]\n",
    "    index = 0;\n",
    "    while index < rows:\n",
    "        for column in range(0,11):\n",
    "            if data[index,column] == '-':\n",
    "                data = np.delete(data,index,0)\n",
    "                rows -= 1\n",
    "                index -= 1\n",
    "                break;\n",
    "        index += 1\n",
    "    data = data.astype('float')\n",
    "    \n",
    "    # remove rows which have NaN data\n",
    "    rows = data.shape[0]\n",
    "    check = np.isnan(data)\n",
    "    index = 0;    \n",
    "    while index < rows:\n",
    "        for column in range(0,11):\n",
    "            if check[index,column] == True:\n",
    "                data = np.delete(data,index,0)\n",
    "                check =  np.delete(check,index,0)\n",
    "                rows -= 1\n",
    "                index -= 1\n",
    "                break;\n",
    "        index += 1    \n",
    "    return data\n",
    "\n",
    "data = data_clean(df)  \n"
   ]
  },
  {
   "cell_type": "code",
   "execution_count": 7,
   "metadata": {
    "collapsed": true
   },
   "outputs": [],
   "source": [
    "# Save clean data to csv\n",
    "cleaned_data = pd.DataFrame(data)\n",
    "cleaned_data.to_csv(\"../dataSet/cleaned_data.csv\")\n"
   ]
  },
  {
   "cell_type": "markdown",
   "metadata": {},
   "source": [
    "## Make more attributes\n",
    "We make our attributes by creat 2-order and 3-order data"
   ]
  },
  {
   "cell_type": "code",
   "execution_count": 6,
   "metadata": {
    "collapsed": true
   },
   "outputs": [],
   "source": [
    "test = np.hstack((data,data*data))\n",
    "data_2 = pd.DataFrame(test)\n",
    "data_2.to_csv(\"../dataSet/data_2.csv\")\n",
    "test2 = np.hstack((test,data*data*data))\n",
    "data_3 = pd.DataFrame(test2)\n",
    "data_3.to_csv(\"../dataSet/data_3.csv\")"
   ]
  }
 ],
 "metadata": {
  "kernelspec": {
   "display_name": "Python 3",
   "language": "python",
   "name": "python3"
  },
  "language_info": {
   "codemirror_mode": {
    "name": "ipython",
    "version": 3
   },
   "file_extension": ".py",
   "mimetype": "text/x-python",
   "name": "python",
   "nbconvert_exporter": "python",
   "pygments_lexer": "ipython3",
   "version": "3.6.1"
  }
 },
 "nbformat": 4,
 "nbformat_minor": 2
}
