{
 "cells": [
  {
   "cell_type": "markdown",
   "metadata": {},
   "source": [
    "# PM2.5 Multi-method Regression\n",
    "This is the Final Project of Intro to Machine Learning, by Peixuan Gao and Zhenghao Dong\n",
    "\n",
    "## Project Aim: \n",
    "1. Try to build a regression model for PM2.5 level prediction based on multiple climate attributes\n",
    "2. Try to apply different approachs and techniques from the lecture, and compare the performance between different techniques"
   ]
  },
  {
   "cell_type": "markdown",
   "metadata": {},
   "source": [
    "### 1. Loading the data\n",
    "#### 1.1 Loading the data from csv file\n",
    "The data is get from:\n",
    "\n",
    "The data includes 10 attributes (pm10, o3, no2, so2, so2, co, temperture, dewpoint, pressure, humidity, wind) and 1 target value (pm25)\n",
    "\n",
    "Cleaned data is stored in cleaned_data.csv, we read it by pandas library"
   ]
  },
  {
   "cell_type": "code",
   "execution_count": 1,
   "metadata": {
    "collapsed": true
   },
   "outputs": [],
   "source": [
    "import pandas as pd\n",
    "import numpy as np"
   ]
  },
  {
   "cell_type": "code",
   "execution_count": 2,
   "metadata": {
    "collapsed": true
   },
   "outputs": [],
   "source": [
    "df = pd.read_csv(\"./cleaned_data.csv\")"
   ]
  },
  {
   "cell_type": "markdown",
   "metadata": {},
   "source": [
    "First, we try to observe the first 6 row of the data to see if the data is correctly loaded"
   ]
  },
  {
   "cell_type": "code",
   "execution_count": 3,
   "metadata": {},
   "outputs": [
    {
     "data": {
      "text/html": [
       "<div>\n",
       "<style>\n",
       "    .dataframe thead tr:only-child th {\n",
       "        text-align: right;\n",
       "    }\n",
       "\n",
       "    .dataframe thead th {\n",
       "        text-align: left;\n",
       "    }\n",
       "\n",
       "    .dataframe tbody tr th {\n",
       "        vertical-align: top;\n",
       "    }\n",
       "</style>\n",
       "<table border=\"1\" class=\"dataframe\">\n",
       "  <thead>\n",
       "    <tr style=\"text-align: right;\">\n",
       "      <th></th>\n",
       "      <th>pm25</th>\n",
       "      <th>pm10</th>\n",
       "      <th>o3</th>\n",
       "      <th>no2</th>\n",
       "      <th>so2</th>\n",
       "      <th>co</th>\n",
       "      <th>temperature</th>\n",
       "      <th>dewpoint</th>\n",
       "      <th>pressure</th>\n",
       "      <th>humidity</th>\n",
       "      <th>wind</th>\n",
       "    </tr>\n",
       "  </thead>\n",
       "  <tbody>\n",
       "    <tr>\n",
       "      <th>0</th>\n",
       "      <td>134</td>\n",
       "      <td>81</td>\n",
       "      <td>31</td>\n",
       "      <td>20</td>\n",
       "      <td>15</td>\n",
       "      <td>14</td>\n",
       "      <td>20</td>\n",
       "      <td>10</td>\n",
       "      <td>1016</td>\n",
       "      <td>52</td>\n",
       "      <td>13</td>\n",
       "    </tr>\n",
       "    <tr>\n",
       "      <th>1</th>\n",
       "      <td>158</td>\n",
       "      <td>83</td>\n",
       "      <td>47</td>\n",
       "      <td>34</td>\n",
       "      <td>14</td>\n",
       "      <td>10</td>\n",
       "      <td>19</td>\n",
       "      <td>11</td>\n",
       "      <td>1016</td>\n",
       "      <td>60</td>\n",
       "      <td>9</td>\n",
       "    </tr>\n",
       "    <tr>\n",
       "      <th>2</th>\n",
       "      <td>147</td>\n",
       "      <td>100</td>\n",
       "      <td>39</td>\n",
       "      <td>31</td>\n",
       "      <td>11</td>\n",
       "      <td>9</td>\n",
       "      <td>19</td>\n",
       "      <td>11</td>\n",
       "      <td>1016</td>\n",
       "      <td>60</td>\n",
       "      <td>9</td>\n",
       "    </tr>\n",
       "    <tr>\n",
       "      <th>3</th>\n",
       "      <td>151</td>\n",
       "      <td>74</td>\n",
       "      <td>44</td>\n",
       "      <td>26</td>\n",
       "      <td>10</td>\n",
       "      <td>11</td>\n",
       "      <td>19</td>\n",
       "      <td>11</td>\n",
       "      <td>1016</td>\n",
       "      <td>60</td>\n",
       "      <td>9</td>\n",
       "    </tr>\n",
       "    <tr>\n",
       "      <th>4</th>\n",
       "      <td>78</td>\n",
       "      <td>51</td>\n",
       "      <td>39</td>\n",
       "      <td>7</td>\n",
       "      <td>2</td>\n",
       "      <td>9</td>\n",
       "      <td>22</td>\n",
       "      <td>8</td>\n",
       "      <td>1016</td>\n",
       "      <td>41</td>\n",
       "      <td>4</td>\n",
       "    </tr>\n",
       "    <tr>\n",
       "      <th>5</th>\n",
       "      <td>91</td>\n",
       "      <td>40</td>\n",
       "      <td>26</td>\n",
       "      <td>16</td>\n",
       "      <td>5</td>\n",
       "      <td>8</td>\n",
       "      <td>22</td>\n",
       "      <td>8</td>\n",
       "      <td>1016</td>\n",
       "      <td>41</td>\n",
       "      <td>4</td>\n",
       "    </tr>\n",
       "  </tbody>\n",
       "</table>\n",
       "</div>"
      ],
      "text/plain": [
       "   pm25  pm10  o3  no2  so2  co  temperature  dewpoint  pressure  humidity  \\\n",
       "0   134    81  31   20   15  14           20        10      1016        52   \n",
       "1   158    83  47   34   14  10           19        11      1016        60   \n",
       "2   147   100  39   31   11   9           19        11      1016        60   \n",
       "3   151    74  44   26   10  11           19        11      1016        60   \n",
       "4    78    51  39    7    2   9           22         8      1016        41   \n",
       "5    91    40  26   16    5   8           22         8      1016        41   \n",
       "\n",
       "   wind  \n",
       "0    13  \n",
       "1     9  \n",
       "2     9  \n",
       "3     9  \n",
       "4     4  \n",
       "5     4  "
      ]
     },
     "execution_count": 3,
     "metadata": {},
     "output_type": "execute_result"
    }
   ],
   "source": [
    "df.head(6)"
   ]
  },
  {
   "cell_type": "markdown",
   "metadata": {},
   "source": [
    "We can clearly see the data is loaded correctly with the correct attribute name and target value\n",
    "\n",
    "Then, let's try to convert the pandas dataframe into numpy array for further operations"
   ]
  },
  {
   "cell_type": "code",
   "execution_count": 4,
   "metadata": {
    "collapsed": true
   },
   "outputs": [],
   "source": [
    "data_total = np.array(df)"
   ]
  },
  {
   "cell_type": "markdown",
   "metadata": {},
   "source": [
    "#### 1.2 Getting the training data and testing data\n",
    "The dataset we get from database is large, we first try to print out the size of the dataset"
   ]
  },
  {
   "cell_type": "code",
   "execution_count": 5,
   "metadata": {},
   "outputs": [
    {
     "data": {
      "text/plain": [
       "(93790, 11)"
      ]
     },
     "execution_count": 5,
     "metadata": {},
     "output_type": "execute_result"
    }
   ],
   "source": [
    "data_total.shape"
   ]
  },
  {
   "cell_type": "markdown",
   "metadata": {},
   "source": [
    "From the output, we can notice that the total data sample number is nearly 100000 samples, which means we can take half of it as the training data, and the rest as the training data.\n",
    "\n",
    "We try to take 50000 data samples as the training data"
   ]
  },
  {
   "cell_type": "code",
   "execution_count": 6,
   "metadata": {},
   "outputs": [
    {
     "name": "stdout",
     "output_type": "stream",
     "text": [
      "training data shape: 50000,11\n",
      "testing data shape: 43790,11\n"
     ]
    }
   ],
   "source": [
    "ntr = 50000\n",
    "data_train = data_total[:ntr]\n",
    "data_test = data_total[ntr:]\n",
    "print(\"training data shape: {0:d},{1:d}\".format(data_train.shape[0], data_train.shape[1]))\n",
    "print(\"testing data shape: {0:d},{1:d}\".format(data_test.shape[0], data_test.shape[1]))"
   ]
  },
  {
   "cell_type": "markdown",
   "metadata": {},
   "source": [
    "Since the first column is the target value 'pm25', we try to get the attributes matrix X and target value vector y"
   ]
  },
  {
   "cell_type": "code",
   "execution_count": 7,
   "metadata": {
    "collapsed": true
   },
   "outputs": [],
   "source": [
    "ytrain = data_train[:,0]\n",
    "ytest = data_test[:,0]\n",
    "Xtrain = data_train[:,1:]\n",
    "Xtest = data_test[:,1:]"
   ]
  },
  {
   "cell_type": "markdown",
   "metadata": {},
   "source": [
    "### 2. Simple First-order Linear Regression\n",
    "#### 2.1 Fitting the model\n",
    "From the data, the first assumption appears in our mind is: would the modele be a simple first-order linear regression model?\n",
    "The first-order linear regression model might be the simplest model, so we first try to use it to fit the data, to see how it performs\n",
    "\n",
    "We try to import linear_model from sklearn library (Which is already built and well encapsulated, the APIs are super easy to use).\n",
    "Here is the link of the documentation of sklearn.linear_model http://scikit-learn.org/stable/modules/generated/sklearn.linear_model.LinearRegression.html"
   ]
  },
  {
   "cell_type": "code",
   "execution_count": 19,
   "metadata": {},
   "outputs": [
    {
     "data": {
      "text/plain": [
       "LinearRegression(copy_X=True, fit_intercept=True, n_jobs=1, normalize=False)"
      ]
     },
     "execution_count": 19,
     "metadata": {},
     "output_type": "execute_result"
    }
   ],
   "source": [
    "from sklearn import linear_model\n",
    "import matplotlib.pyplot as plt\n",
    "%matplotlib inline\n",
    "\n",
    "regr = linear_model.LinearRegression()\n",
    "regr.fit(Xtrain, ytrain)"
   ]
  },
  {
   "cell_type": "markdown",
   "metadata": {},
   "source": [
    "#### 2.2 Predict the target value\n",
    "After fitting the training data, we try to predict the target value by training data and testing data\n",
    "\n",
    "We evalue the accuracy of the model prediction by Normalized RSS"
   ]
  },
  {
   "cell_type": "code",
   "execution_count": 20,
   "metadata": {},
   "outputs": [
    {
     "name": "stdout",
     "output_type": "stream",
     "text": [
      "Normalized RSS training = 0.489437\n",
      "Normalized RSS testing = 0.542290\n"
     ]
    }
   ],
   "source": [
    "ypred = regr.predict(Xtrain)\n",
    "\n",
    "RSStrain = np.mean(((ypred-ytrain)**2)/(np.std(ytrain)**2))\n",
    "print(\"Normalized RSS training = {0:f}\".format(RSStrain))\n",
    "\n",
    "ytestpred = regr.predict(Xtest)\n",
    "\n",
    "RSStest = np.mean(((ytestpred-ytest)**2)/(np.std(ytest)**2))\n",
    "print(\"Normalized RSS testing = {0:f}\".format(RSStest))"
   ]
  },
  {
   "cell_type": "code",
   "execution_count": 21,
   "metadata": {},
   "outputs": [
    {
     "data": {
      "image/png": "[encoded data removed]",
      "text/plain": [
       "<matplotlib.figure.Figure at 0x1a1729a8d0>"
      ]
     },
     "metadata": {},
     "output_type": "display_data"
    }
   ],
   "source": [
    "plt.scatter(ytest,ytestpred)\n",
    "plt.plot([-1,500],[-1,500],'r')\n",
    "plt.xlabel('Actual')\n",
    "plt.ylabel('Predicted')\n",
    "plt.grid(True)"
   ]
  },
  {
   "cell_type": "markdown",
   "metadata": {},
   "source": [
    "From the Normalized RSS, we find the simple first-order linear regression is not that bad, but actually far from satisfaction, let's see what other model can do"
   ]
  },
  {
   "cell_type": "markdown",
   "metadata": {},
   "source": [
    "### 3. Third-Order Linear Regression\n",
    "Since the first-order linear regression is not that bad, it's intuitive for us to make the assumption: if we try to increase the order, would it performs better?\n",
    "\n",
    "Based on that assumption, we try to expand out data into first-order, second-order and third-order data, the script of expanding the data is also in this repository:\n",
    "\n",
    "#### 3.1 Loading the expanded third-order data\n",
    "The expanded third-order data is stored in data_3.csv"
   ]
  },
  {
   "cell_type": "code",
   "execution_count": 23,
   "metadata": {},
   "outputs": [
    {
     "data": {
      "text/html": [
       "<div>\n",
       "<style>\n",
       "    .dataframe thead tr:only-child th {\n",
       "        text-align: right;\n",
       "    }\n",
       "\n",
       "    .dataframe thead th {\n",
       "        text-align: left;\n",
       "    }\n",
       "\n",
       "    .dataframe tbody tr th {\n",
       "        vertical-align: top;\n",
       "    }\n",
       "</style>\n",
       "<table border=\"1\" class=\"dataframe\">\n",
       "  <thead>\n",
       "    <tr style=\"text-align: right;\">\n",
       "      <th></th>\n",
       "      <th>Unnamed: 0</th>\n",
       "      <th>0</th>\n",
       "      <th>1</th>\n",
       "      <th>2</th>\n",
       "      <th>3</th>\n",
       "      <th>4</th>\n",
       "      <th>5</th>\n",
       "      <th>6</th>\n",
       "      <th>7</th>\n",
       "      <th>8</th>\n",
       "      <th>...</th>\n",
       "      <th>23</th>\n",
       "      <th>24</th>\n",
       "      <th>25</th>\n",
       "      <th>26</th>\n",
       "      <th>27</th>\n",
       "      <th>28</th>\n",
       "      <th>29</th>\n",
       "      <th>30</th>\n",
       "      <th>31</th>\n",
       "      <th>32</th>\n",
       "    </tr>\n",
       "  </thead>\n",
       "  <tbody>\n",
       "    <tr>\n",
       "      <th>0</th>\n",
       "      <td>0</td>\n",
       "      <td>134.0</td>\n",
       "      <td>81.0</td>\n",
       "      <td>31.0</td>\n",
       "      <td>20.0</td>\n",
       "      <td>15.0</td>\n",
       "      <td>14.0</td>\n",
       "      <td>20.0</td>\n",
       "      <td>10.0</td>\n",
       "      <td>1016.0</td>\n",
       "      <td>...</td>\n",
       "      <td>531441.0</td>\n",
       "      <td>29791.0</td>\n",
       "      <td>8000.0</td>\n",
       "      <td>3375.0</td>\n",
       "      <td>2744.0</td>\n",
       "      <td>8000.0</td>\n",
       "      <td>1000.0</td>\n",
       "      <td>1.048772e+09</td>\n",
       "      <td>140608.0</td>\n",
       "      <td>2197.0</td>\n",
       "    </tr>\n",
       "    <tr>\n",
       "      <th>1</th>\n",
       "      <td>1</td>\n",
       "      <td>158.0</td>\n",
       "      <td>83.0</td>\n",
       "      <td>47.0</td>\n",
       "      <td>34.0</td>\n",
       "      <td>14.0</td>\n",
       "      <td>10.0</td>\n",
       "      <td>19.0</td>\n",
       "      <td>11.0</td>\n",
       "      <td>1016.0</td>\n",
       "      <td>...</td>\n",
       "      <td>571787.0</td>\n",
       "      <td>103823.0</td>\n",
       "      <td>39304.0</td>\n",
       "      <td>2744.0</td>\n",
       "      <td>1000.0</td>\n",
       "      <td>6859.0</td>\n",
       "      <td>1331.0</td>\n",
       "      <td>1.048772e+09</td>\n",
       "      <td>216000.0</td>\n",
       "      <td>729.0</td>\n",
       "    </tr>\n",
       "    <tr>\n",
       "      <th>2</th>\n",
       "      <td>2</td>\n",
       "      <td>147.0</td>\n",
       "      <td>100.0</td>\n",
       "      <td>39.0</td>\n",
       "      <td>31.0</td>\n",
       "      <td>11.0</td>\n",
       "      <td>9.0</td>\n",
       "      <td>19.0</td>\n",
       "      <td>11.0</td>\n",
       "      <td>1016.0</td>\n",
       "      <td>...</td>\n",
       "      <td>1000000.0</td>\n",
       "      <td>59319.0</td>\n",
       "      <td>29791.0</td>\n",
       "      <td>1331.0</td>\n",
       "      <td>729.0</td>\n",
       "      <td>6859.0</td>\n",
       "      <td>1331.0</td>\n",
       "      <td>1.048772e+09</td>\n",
       "      <td>216000.0</td>\n",
       "      <td>729.0</td>\n",
       "    </tr>\n",
       "    <tr>\n",
       "      <th>3</th>\n",
       "      <td>3</td>\n",
       "      <td>151.0</td>\n",
       "      <td>74.0</td>\n",
       "      <td>44.0</td>\n",
       "      <td>26.0</td>\n",
       "      <td>10.0</td>\n",
       "      <td>11.0</td>\n",
       "      <td>19.0</td>\n",
       "      <td>11.0</td>\n",
       "      <td>1016.0</td>\n",
       "      <td>...</td>\n",
       "      <td>405224.0</td>\n",
       "      <td>85184.0</td>\n",
       "      <td>17576.0</td>\n",
       "      <td>1000.0</td>\n",
       "      <td>1331.0</td>\n",
       "      <td>6859.0</td>\n",
       "      <td>1331.0</td>\n",
       "      <td>1.048772e+09</td>\n",
       "      <td>216000.0</td>\n",
       "      <td>729.0</td>\n",
       "    </tr>\n",
       "    <tr>\n",
       "      <th>4</th>\n",
       "      <td>4</td>\n",
       "      <td>78.0</td>\n",
       "      <td>51.0</td>\n",
       "      <td>39.0</td>\n",
       "      <td>7.0</td>\n",
       "      <td>2.0</td>\n",
       "      <td>9.0</td>\n",
       "      <td>22.0</td>\n",
       "      <td>8.0</td>\n",
       "      <td>1016.0</td>\n",
       "      <td>...</td>\n",
       "      <td>132651.0</td>\n",
       "      <td>59319.0</td>\n",
       "      <td>343.0</td>\n",
       "      <td>8.0</td>\n",
       "      <td>729.0</td>\n",
       "      <td>10648.0</td>\n",
       "      <td>512.0</td>\n",
       "      <td>1.048772e+09</td>\n",
       "      <td>68921.0</td>\n",
       "      <td>64.0</td>\n",
       "    </tr>\n",
       "    <tr>\n",
       "      <th>5</th>\n",
       "      <td>5</td>\n",
       "      <td>91.0</td>\n",
       "      <td>40.0</td>\n",
       "      <td>26.0</td>\n",
       "      <td>16.0</td>\n",
       "      <td>5.0</td>\n",
       "      <td>8.0</td>\n",
       "      <td>22.0</td>\n",
       "      <td>8.0</td>\n",
       "      <td>1016.0</td>\n",
       "      <td>...</td>\n",
       "      <td>64000.0</td>\n",
       "      <td>17576.0</td>\n",
       "      <td>4096.0</td>\n",
       "      <td>125.0</td>\n",
       "      <td>512.0</td>\n",
       "      <td>10648.0</td>\n",
       "      <td>512.0</td>\n",
       "      <td>1.048772e+09</td>\n",
       "      <td>68921.0</td>\n",
       "      <td>64.0</td>\n",
       "    </tr>\n",
       "  </tbody>\n",
       "</table>\n",
       "<p>6 rows × 34 columns</p>\n",
       "</div>"
      ],
      "text/plain": [
       "   Unnamed: 0      0      1     2     3     4     5     6     7       8  \\\n",
       "0           0  134.0   81.0  31.0  20.0  15.0  14.0  20.0  10.0  1016.0   \n",
       "1           1  158.0   83.0  47.0  34.0  14.0  10.0  19.0  11.0  1016.0   \n",
       "2           2  147.0  100.0  39.0  31.0  11.0   9.0  19.0  11.0  1016.0   \n",
       "3           3  151.0   74.0  44.0  26.0  10.0  11.0  19.0  11.0  1016.0   \n",
       "4           4   78.0   51.0  39.0   7.0   2.0   9.0  22.0   8.0  1016.0   \n",
       "5           5   91.0   40.0  26.0  16.0   5.0   8.0  22.0   8.0  1016.0   \n",
       "\n",
       "    ...           23        24       25      26      27       28      29  \\\n",
       "0   ...     531441.0   29791.0   8000.0  3375.0  2744.0   8000.0  1000.0   \n",
       "1   ...     571787.0  103823.0  39304.0  2744.0  1000.0   6859.0  1331.0   \n",
       "2   ...    1000000.0   59319.0  29791.0  1331.0   729.0   6859.0  1331.0   \n",
       "3   ...     405224.0   85184.0  17576.0  1000.0  1331.0   6859.0  1331.0   \n",
       "4   ...     132651.0   59319.0    343.0     8.0   729.0  10648.0   512.0   \n",
       "5   ...      64000.0   17576.0   4096.0   125.0   512.0  10648.0   512.0   \n",
       "\n",
       "             30        31      32  \n",
       "0  1.048772e+09  140608.0  2197.0  \n",
       "1  1.048772e+09  216000.0   729.0  \n",
       "2  1.048772e+09  216000.0   729.0  \n",
       "3  1.048772e+09  216000.0   729.0  \n",
       "4  1.048772e+09   68921.0    64.0  \n",
       "5  1.048772e+09   68921.0    64.0  \n",
       "\n",
       "[6 rows x 34 columns]"
      ]
     },
     "execution_count": 23,
     "metadata": {},
     "output_type": "execute_result"
    }
   ],
   "source": [
    "df2 = pd.read_csv(\"./data_3.csv\")\n",
    "df2.head(6)"
   ]
  },
  {
   "cell_type": "code",
   "execution_count": 25,
   "metadata": {},
   "outputs": [
    {
     "data": {
      "text/plain": [
       "(93790, 33)"
      ]
     },
     "execution_count": 25,
     "metadata": {},
     "output_type": "execute_result"
    }
   ],
   "source": [
    "data_3order = np.array(df2)[:,1:]\n",
    "data_3order.shape"
   ]
  },
  {
   "cell_type": "markdown",
   "metadata": {},
   "source": [
    "The first column of the data is the target value, we take it out as target value"
   ]
  },
  {
   "cell_type": "code",
   "execution_count": 26,
   "metadata": {
    "collapsed": true
   },
   "outputs": [],
   "source": [
    "data_3order_Y = data_3order[:, 0]"
   ]
  },
  {
   "cell_type": "markdown",
   "metadata": {},
   "source": [
    "Note that the 12th column and the 23th column are the squared and cubed target value, we should remove them forn the attribute matrix"
   ]
  },
  {
   "cell_type": "code",
   "execution_count": 28,
   "metadata": {},
   "outputs": [],
   "source": [
    "data_3order_X = data_3order[:, 1]\n",
    "nfeature = len(data_3order[0])\n",
    "for column in range(2,nfeature):\n",
    "    if(column == 11 or column == 22):\n",
    "        continue\n",
    "    else:\n",
    "        data_3order_X = np.column_stack((data_3order_X,data_3order[:, column]))"
   ]
  },
  {
   "cell_type": "markdown",
   "metadata": {},
   "source": [
    "Let's print the shape of attribute matrix, the attribute number should be 10*3 = 30"
   ]
  },
  {
   "cell_type": "markdown",
   "metadata": {},
   "source": [
    "#### 3.2 Getting the training data and training data\n",
    "To be constant with the first-order linear regression, we take 50000 samples as the training sample, the rest as the test samples"
   ]
  },
  {
   "cell_type": "code",
   "execution_count": 30,
   "metadata": {},
   "outputs": [
    {
     "name": "stdout",
     "output_type": "stream",
     "text": [
      "X training data shape: 50000,30\n",
      "X testing data shape: 43790,30\n",
      "Y training data shape: 50000\n",
      "Y testing data shape: 43790\n"
     ]
    }
   ],
   "source": [
    "X_train = data_3order_X[:ntr]\n",
    "X_test = data_3order_X[ntr:]\n",
    "y_train = data_3order_Y[:ntr]\n",
    "y_test = data_3order_Y[ntr:]\n",
    "\n",
    "print(\"X training data shape: {0:d},{1:d}\".format(X_train.shape[0], X_train.shape[1]))\n",
    "print(\"X testing data shape: {0:d},{1:d}\".format(X_test.shape[0], X_test.shape[1]))\n",
    "print(\"Y training data shape: {0:d}\".format(y_train.shape[0]))\n",
    "print(\"Y testing data shape: {0:d}\".format(y_test.shape[0]))"
   ]
  },
  {
   "cell_type": "markdown",
   "metadata": {},
   "source": [
    "#### 3.3 Fitting the data into linear regression model\n",
    "We try to fitting the training data in the same way as above"
   ]
  },
  {
   "cell_type": "code",
   "execution_count": 31,
   "metadata": {},
   "outputs": [
    {
     "data": {
      "text/plain": [
       "LinearRegression(copy_X=True, fit_intercept=True, n_jobs=1, normalize=False)"
      ]
     },
     "execution_count": 31,
     "metadata": {},
     "output_type": "execute_result"
    }
   ],
   "source": [
    "regr = linear_model.LinearRegression()\n",
    "regr.fit(X_train, y_train)"
   ]
  },
  {
   "cell_type": "markdown",
   "metadata": {},
   "source": [
    "#### 3.4 Predicting the data by trained third-order linear regression model\n",
    "We try to predict the training data and testing data by the 3-order linear regression model.\n",
    "\n",
    "We evalue the accuracy of the model prediction by Normalized RSS"
   ]
  },
  {
   "cell_type": "code",
   "execution_count": 32,
   "metadata": {},
   "outputs": [
    {
     "name": "stdout",
     "output_type": "stream",
     "text": [
      "Normalized RSS training = 0.353774\n",
      "Normalized RSS testing = 0.417474\n"
     ]
    }
   ],
   "source": [
    "ytr_pred = regr.predict(X_train)\n",
    "\n",
    "RSStrain = np.mean(((ytr_pred-y_train)**2)/(np.std(y_train)**2))\n",
    "print(\"Normalized RSS training = {0:f}\".format(RSStrain))\n",
    "\n",
    "yts_pred = regr.predict(X_test)\n",
    "\n",
    "RSStest = np.mean(((yts_pred-y_test)**2)/(np.std(y_test)**2))\n",
    "print(\"Normalized RSS testing = {0:f}\".format(RSStest))"
   ]
  },
  {
   "cell_type": "code",
   "execution_count": 33,
   "metadata": {},
   "outputs": [
    {
     "data": {
      "image/png": "[encoded data removed]",
      "text/plain": [
       "<matplotlib.figure.Figure at 0x1a1618f0f0>"
      ]
     },
     "metadata": {},
     "output_type": "display_data"
    }
   ],
   "source": [
    "plt.scatter(ytest,ytestpred)\n",
    "plt.plot([-1,500],[-1,500],'r')\n",
    "plt.xlabel('Actual')\n",
    "plt.ylabel('Predicted')\n",
    "plt.grid(True)"
   ]
  },
  {
   "cell_type": "markdown",
   "metadata": {},
   "source": [
    "From the Normalized RSS, we found the third-order linear regression model is better than the first-order by 0.13 on Normalized RSS, which means taking the polynominal elements into consideration would improve the model accuracy in our prediction"
   ]
  },
  {
   "cell_type": "markdown",
   "metadata": {},
   "source": [
    "### 4. LASSO Regularization\n",
    "As we have seen the third-order data matrix, we notice that we have total 30 attributes. From the lecture, we would like to first measure how each atrribute is related to the model and try to do the L1 Regularization\n",
    "\n",
    "#### 4.1 Measure how each attribute is related to the model\n",
    "First, we need to scale the data by sklearn.preprocessing. After that, we try to measure the Rsq of each atrribute to relect the relation to the model"
   ]
  },
  {
   "cell_type": "code",
   "execution_count": 34,
   "metadata": {},
   "outputs": [
    {
     "name": "stdout",
     "output_type": "stream",
     "text": [
      " 0 Rsq=0.340577\n",
      " 1 Rsq=0.004405\n",
      " 2 Rsq=0.229307\n",
      " 3 Rsq=0.189153\n",
      " 4 Rsq=0.099666\n",
      " 5 Rsq=0.000680\n",
      " 6 Rsq=0.017658\n",
      " 7 Rsq=0.002402\n",
      " 8 Rsq=0.009697\n",
      " 9 Rsq=0.026142\n",
      "10 Rsq=0.089431\n",
      "11 Rsq=0.000121\n",
      "12 Rsq=0.158362\n",
      "13 Rsq=0.096179\n",
      "14 Rsq=0.054109\n",
      "15 Rsq=0.000326\n",
      "16 Rsq=0.036131\n",
      "17 Rsq=0.002544\n",
      "18 Rsq=0.002261\n",
      "19 Rsq=0.018191\n",
      "20 Rsq=0.021647\n",
      "21 Rsq=0.000002\n",
      "22 Rsq=0.084827\n",
      "23 Rsq=0.022314\n",
      "24 Rsq=0.016909\n",
      "25 Rsq=0.002197\n",
      "26 Rsq=0.008725\n",
      "27 Rsq=0.002685\n",
      "28 Rsq=0.000222\n",
      "29 Rsq=0.008573\n"
     ]
    },
    {
     "name": "stderr",
     "output_type": "stream",
     "text": [
      "/Users/peixuangao/anaconda3/lib/python3.6/site-packages/sklearn/preprocessing/data.py:164: UserWarning: Numerical issues were encountered when centering the data and might not be solved. Dataset may contain too large values. You may need to prescale your features.\n",
      "  warnings.warn(\"Numerical issues were encountered \"\n"
     ]
    }
   ],
   "source": [
    "import sklearn.preprocessing\n",
    "Xs = sklearn.preprocessing.scale(data_3order_X)\n",
    "ys = sklearn.preprocessing.scale(data_3order_Y)\n",
    "\n",
    "Xs_train = Xs[:ntr]\n",
    "Xs_test = Xs[ntr:]\n",
    "ys_train = ys[:ntr]\n",
    "ys_test = ys[ntr:]\n",
    "\n",
    "natt = len(data_3order_X[0])\n",
    "xtrm = np.mean(Xs_train)\n",
    "ytrm = np.mean(ys_train)\n",
    "syy = np.mean((ys_train-ytrm)**2)\n",
    "Rsq = np.zeros(natt)\n",
    "beta0 = np.zeros(natt)\n",
    "beta1 = np.zeros(natt)\n",
    "for k in range(natt):\n",
    "    Xtrm = np.mean(Xs_train[:,k])\n",
    "    sxy = np.mean((Xs_train[:,k]-xtrm)*(ys_train-ytrm))\n",
    "    sxx = np.mean((Xs_train[:,k]-xtrm)**2)\n",
    "    beta1[k] = sxy/sxx\n",
    "    beta0[k] = ytrm - beta1[k]*xtrm\n",
    "    Rsq[k] = (sxy)**2/sxx/syy\n",
    "    print(\"{0:2d} Rsq={1:f}\".format(k,Rsq[k]))"
   ]
  },
  {
   "cell_type": "markdown",
   "metadata": {},
   "source": [
    "We try to sort the attributes by their Rsq in a decreasing order, to see which attribute relates the most"
   ]
  },
  {
   "cell_type": "code",
   "execution_count": 37,
   "metadata": {},
   "outputs": [
    {
     "name": "stdout",
     "output_type": "stream",
     "text": [
      "The attributes' Rsq in decreasing order  [ 0  2  3 12  4 13 10 22 14 16  9 23 20 19  6 24  8 26 29  1 27 17  7 18 25\n",
      "  5 15 28 11 21]\n"
     ]
    }
   ],
   "source": [
    "d = 30\n",
    "Isel = np.argsort(-Rsq)[:d]\n",
    "print(\"The attributes' Rsq in decreasing order \", Isel)"
   ]
  },
  {
   "cell_type": "markdown",
   "metadata": {},
   "source": [
    "From the output, we can see that the first order pm10 attributes relates the most to the model. In the meantime, we find that a number of the attributes has Rsq larger than 0.01, which means those attributes do contributes to the model.\n",
    "\n",
    "#### 4.2 LASSO L1 Regularzation\n",
    "We using the LASSO API in sklearn.linear, which is also a well-encapsulated API that is easy to use. Here is the Documentation: http://scikit-learn.org/stable/modules/generated/sklearn.linear_model.Lasso.html\n",
    "\n",
    "For parameter alpha, we tried to select the best one in range 0.00001 to 1. Since we have a large dataset, we don't need the K-fold to do the cross-validation\n",
    "\n",
    "We calculate the RSS of the predicted value and the original value to evaluate alpha"
   ]
  },
  {
   "cell_type": "code",
   "execution_count": 91,
   "metadata": {},
   "outputs": [
    {
     "name": "stderr",
     "output_type": "stream",
     "text": [
      "/Users/peixuangao/anaconda3/lib/python3.6/site-packages/sklearn/linear_model/coordinate_descent.py:491: ConvergenceWarning: Objective did not converge. You might want to increase the number of iterations. Fitting data with very small alpha may cause precision problems.\n",
      "  ConvergenceWarning)\n"
     ]
    }
   ],
   "source": [
    "model = linear_model.Lasso(warm_start=True)\n",
    "# Regularization values to test\n",
    "nalpha = 30\n",
    "alphas = np.logspace(-5,-1,nalpha)\n",
    "RSS = np.zeros(nalpha)\n",
    "for ia, a in enumerate(alphas):\n",
    "    # Fit the model on the training data\n",
    "    model.alpha = a\n",
    "    model.fit(Xs_train,ys_train)\n",
    "    # Compute the prediction error on the test data\n",
    "    ys_test_pred = model.predict(Xs_test)\n",
    "    RSS[ia] = np.mean(((ys_test_pred-ys_test)**2)/(np.std(ys_test)**2))"
   ]
  },
  {
   "cell_type": "markdown",
   "metadata": {},
   "source": [
    "Plotting the RSS against the selected alpha"
   ]
  },
  {
   "cell_type": "code",
   "execution_count": 68,
   "metadata": {},
   "outputs": [
    {
     "data": {
      "image/png": "[encoded data removed]",
      "text/plain": [
       "<matplotlib.figure.Figure at 0x1a179e09e8>"
      ]
     },
     "metadata": {},
     "output_type": "display_data"
    }
   ],
   "source": [
    "plt.semilogx(alphas, RSS)\n",
    "plt.legend(['RSS'],loc='upper left')\n",
    "plt.xlabel('alpha')\n",
    "plt.ylabel('Test RSS')\n",
    "plt.grid()\n",
    "plt.show()"
   ]
  },
  {
   "cell_type": "markdown",
   "metadata": {},
   "source": [
    "From the plot, we found the alpha = 0.0035 has the least mse, we try to apply it in the LASSO model"
   ]
  },
  {
   "cell_type": "code",
   "execution_count": 92,
   "metadata": {},
   "outputs": [
    {
     "name": "stdout",
     "output_type": "stream",
     "text": [
      "Normalized RSS by LASSO = 0.417535\n"
     ]
    },
    {
     "name": "stderr",
     "output_type": "stream",
     "text": [
      "/Users/peixuangao/anaconda3/lib/python3.6/site-packages/sklearn/linear_model/coordinate_descent.py:491: ConvergenceWarning: Objective did not converge. You might want to increase the number of iterations. Fitting data with very small alpha may cause precision problems.\n",
      "  ConvergenceWarning)\n"
     ]
    }
   ],
   "source": [
    "model = linear_model.Lasso(warm_start=True)\n",
    "model.alpha = 0.00035\n",
    "model.fit(Xs_train, ys_train)\n",
    "ys_test_pred = model.predict(Xs_test)\n",
    "RSStestLASSO = np.mean(((ys_test_pred-ys_test)**2)/(np.std(ys_test)**2))\n",
    "print(\"Normalized RSS by LASSO = {0:f}\".format(RSStestLASSO))"
   ]
  },
  {
   "cell_type": "markdown",
   "metadata": {},
   "source": [
    "From the RSS, we can see that the L1 Regularzation does not contribute a lot in out prediction model\n",
    "\n",
    "Form our analysis, we con concludes that might because most of the attributes relates to the model\n",
    "\n",
    "### 5. Neural Network\n",
    "After using linear regression model in sklearn labrary, we try to build a simple 1 hidden-layer neural network by keras running on tensorflow\n",
    "\n",
    "#### 5.1 Data Pre-processing\n",
    "For Neural Network, the data should be scaled"
   ]
  },
  {
   "cell_type": "code",
   "execution_count": 138,
   "metadata": {},
   "outputs": [
    {
     "name": "stderr",
     "output_type": "stream",
     "text": [
      "/Users/peixuangao/anaconda3/lib/python3.6/site-packages/sklearn/utils/validation.py:475: DataConversionWarning: Data with input dtype int64 was converted to float64 by the scale function.\n",
      "  warnings.warn(msg, DataConversionWarning)\n"
     ]
    }
   ],
   "source": [
    "data_total = np.array(df)\n",
    "data_scale = sklearn.preprocessing.scale(data_total)\n",
    "data_s_train = data_scale[:ntr]\n",
    "data_s_test = data_scale[ntr:]\n",
    "\n",
    "xstrain = data_s_train[:,1:]\n",
    "xstest = data_s_test[:,1:]\n",
    "ystrain = data_s_train[:,0]\n",
    "ystest = data_s_test[:,0]"
   ]
  },
  {
   "cell_type": "markdown",
   "metadata": {},
   "source": [
    "#### 5.2 Build the Neural Network"
   ]
  },
  {
   "cell_type": "code",
   "execution_count": 139,
   "metadata": {},
   "outputs": [],
   "source": [
    "import keras"
   ]
  },
  {
   "cell_type": "code",
   "execution_count": 140,
   "metadata": {
    "collapsed": true
   },
   "outputs": [],
   "source": [
    "from keras.models import Model, Sequential\n",
    "from keras.layers import Dense, Activation"
   ]
  },
  {
   "cell_type": "markdown",
   "metadata": {},
   "source": [
    "Clear the session"
   ]
  },
  {
   "cell_type": "code",
   "execution_count": 141,
   "metadata": {
    "collapsed": true
   },
   "outputs": [],
   "source": [
    "import keras.backend as K\n",
    "K.clear_session()"
   ]
  },
  {
   "cell_type": "markdown",
   "metadata": {},
   "source": [
    "First, we tried to build a hidden-layer with 20 hidden-units, we select the ReLU as the activation function"
   ]
  },
  {
   "cell_type": "code",
   "execution_count": 142,
   "metadata": {},
   "outputs": [],
   "source": [
    "nin = xstrain.shape[1]  # dimension of input data\n",
    "nh = 20     # number of hidden units\n",
    "nout = 1\n",
    "model = Sequential()\n",
    "model.add(Dense(nh, input_shape=(nin,),activation='relu',name='hidden'))\n",
    "model.add(Dense(nout,activation=None,name='output'))"
   ]
  },
  {
   "cell_type": "code",
   "execution_count": 143,
   "metadata": {},
   "outputs": [
    {
     "name": "stdout",
     "output_type": "stream",
     "text": [
      "_________________________________________________________________\n",
      "Layer (type)                 Output Shape              Param #   \n",
      "=================================================================\n",
      "hidden (Dense)               (None, 20)                220       \n",
      "_________________________________________________________________\n",
      "output (Dense)               (None, 1)                 21        \n",
      "=================================================================\n",
      "Total params: 241\n",
      "Trainable params: 241\n",
      "Non-trainable params: 0\n",
      "_________________________________________________________________\n"
     ]
    }
   ],
   "source": [
    "model.summary()"
   ]
  },
  {
   "cell_type": "markdown",
   "metadata": {},
   "source": [
    "#### 5.3 Fitting the data\n",
    "We try to fitting the training data in the neural network, with Adam optimizer, learning rate = 0.01, and mse as loss function"
   ]
  },
  {
   "cell_type": "code",
   "execution_count": 144,
   "metadata": {},
   "outputs": [
    {
     "name": "stdout",
     "output_type": "stream",
     "text": [
      "Train on 10000 samples, validate on 10000 samples\n",
      "Epoch 1/100\n",
      "10000/10000 [==============================] - 0s - loss: 1.3970 - mean_squared_error: 1.3970 - val_loss: 0.8308 - val_mean_squared_error: 0.8308\n",
      "Epoch 2/100\n",
      "10000/10000 [==============================] - 0s - loss: 0.6777 - mean_squared_error: 0.6777 - val_loss: 0.6069 - val_mean_squared_error: 0.6069\n",
      "Epoch 3/100\n",
      "10000/10000 [==============================] - 0s - loss: 0.5308 - mean_squared_error: 0.5308 - val_loss: 0.5330 - val_mean_squared_error: 0.5330\n",
      "Epoch 4/100\n",
      "10000/10000 [==============================] - 0s - loss: 0.4730 - mean_squared_error: 0.4730 - val_loss: 0.4937 - val_mean_squared_error: 0.4937\n",
      "Epoch 5/100\n",
      "10000/10000 [==============================] - 0s - loss: 0.4388 - mean_squared_error: 0.4388 - val_loss: 0.4697 - val_mean_squared_error: 0.4697\n",
      "Epoch 6/100\n",
      "10000/10000 [==============================] - 0s - loss: 0.4130 - mean_squared_error: 0.4130 - val_loss: 0.4469 - val_mean_squared_error: 0.4469\n",
      "Epoch 7/100\n",
      "10000/10000 [==============================] - 0s - loss: 0.3937 - mean_squared_error: 0.3937 - val_loss: 0.4325 - val_mean_squared_error: 0.4325\n",
      "Epoch 8/100\n",
      "10000/10000 [==============================] - 0s - loss: 0.3782 - mean_squared_error: 0.3782 - val_loss: 0.4211 - val_mean_squared_error: 0.4211\n",
      "Epoch 9/100\n",
      "10000/10000 [==============================] - 0s - loss: 0.3686 - mean_squared_error: 0.3686 - val_loss: 0.4191 - val_mean_squared_error: 0.4191\n",
      "Epoch 10/100\n",
      "10000/10000 [==============================] - 0s - loss: 0.3609 - mean_squared_error: 0.3609 - val_loss: 0.4079 - val_mean_squared_error: 0.4079\n",
      "Epoch 11/100\n",
      "10000/10000 [==============================] - 0s - loss: 0.3553 - mean_squared_error: 0.3553 - val_loss: 0.4074 - val_mean_squared_error: 0.4074\n",
      "Epoch 12/100\n",
      "10000/10000 [==============================] - 0s - loss: 0.3516 - mean_squared_error: 0.3516 - val_loss: 0.4028 - val_mean_squared_error: 0.4028\n",
      "Epoch 13/100\n",
      "10000/10000 [==============================] - 0s - loss: 0.3488 - mean_squared_error: 0.3488 - val_loss: 0.4074 - val_mean_squared_error: 0.4074\n",
      "Epoch 14/100\n",
      "10000/10000 [==============================] - 0s - loss: 0.3462 - mean_squared_error: 0.3462 - val_loss: 0.3992 - val_mean_squared_error: 0.3992\n",
      "Epoch 15/100\n",
      "10000/10000 [==============================] - 0s - loss: 0.3436 - mean_squared_error: 0.3436 - val_loss: 0.3976 - val_mean_squared_error: 0.3976\n",
      "Epoch 16/100\n",
      "10000/10000 [==============================] - 0s - loss: 0.3427 - mean_squared_error: 0.3427 - val_loss: 0.3957 - val_mean_squared_error: 0.3957\n",
      "Epoch 17/100\n",
      "10000/10000 [==============================] - 0s - loss: 0.3407 - mean_squared_error: 0.3407 - val_loss: 0.3951 - val_mean_squared_error: 0.3951\n",
      "Epoch 18/100\n",
      "10000/10000 [==============================] - 0s - loss: 0.3397 - mean_squared_error: 0.3397 - val_loss: 0.3999 - val_mean_squared_error: 0.3999\n",
      "Epoch 19/100\n",
      "10000/10000 [==============================] - 0s - loss: 0.3380 - mean_squared_error: 0.3380 - val_loss: 0.3928 - val_mean_squared_error: 0.3928\n",
      "Epoch 20/100\n",
      "10000/10000 [==============================] - 0s - loss: 0.3376 - mean_squared_error: 0.3376 - val_loss: 0.3895 - val_mean_squared_error: 0.3895\n",
      "Epoch 21/100\n",
      "10000/10000 [==============================] - 0s - loss: 0.3354 - mean_squared_error: 0.3354 - val_loss: 0.3967 - val_mean_squared_error: 0.3967\n",
      "Epoch 22/100\n",
      "10000/10000 [==============================] - 0s - loss: 0.3351 - mean_squared_error: 0.3351 - val_loss: 0.3895 - val_mean_squared_error: 0.3895\n",
      "Epoch 23/100\n",
      "10000/10000 [==============================] - 0s - loss: 0.3339 - mean_squared_error: 0.3339 - val_loss: 0.3965 - val_mean_squared_error: 0.3965\n",
      "Epoch 24/100\n",
      "10000/10000 [==============================] - 0s - loss: 0.3340 - mean_squared_error: 0.3340 - val_loss: 0.3908 - val_mean_squared_error: 0.3908\n",
      "Epoch 25/100\n",
      "10000/10000 [==============================] - 0s - loss: 0.3326 - mean_squared_error: 0.3326 - val_loss: 0.3908 - val_mean_squared_error: 0.3908\n",
      "Epoch 26/100\n",
      "10000/10000 [==============================] - 0s - loss: 0.3314 - mean_squared_error: 0.3314 - val_loss: 0.3845 - val_mean_squared_error: 0.3845\n",
      "Epoch 27/100\n",
      "10000/10000 [==============================] - 0s - loss: 0.3316 - mean_squared_error: 0.3316 - val_loss: 0.3864 - val_mean_squared_error: 0.3864\n",
      "Epoch 28/100\n",
      "10000/10000 [==============================] - 0s - loss: 0.3304 - mean_squared_error: 0.3304 - val_loss: 0.3904 - val_mean_squared_error: 0.3904\n",
      "Epoch 29/100\n",
      "10000/10000 [==============================] - 0s - loss: 0.3302 - mean_squared_error: 0.3302 - val_loss: 0.3867 - val_mean_squared_error: 0.3867\n",
      "Epoch 30/100\n",
      "10000/10000 [==============================] - 0s - loss: 0.3298 - mean_squared_error: 0.3298 - val_loss: 0.3865 - val_mean_squared_error: 0.3865\n",
      "Epoch 31/100\n",
      "10000/10000 [==============================] - 0s - loss: 0.3292 - mean_squared_error: 0.3292 - val_loss: 0.3893 - val_mean_squared_error: 0.3893\n",
      "Epoch 32/100\n",
      "10000/10000 [==============================] - 0s - loss: 0.3286 - mean_squared_error: 0.3286 - val_loss: 0.3925 - val_mean_squared_error: 0.3925\n",
      "Epoch 33/100\n",
      "10000/10000 [==============================] - 0s - loss: 0.3280 - mean_squared_error: 0.3280 - val_loss: 0.3883 - val_mean_squared_error: 0.3883\n",
      "Epoch 34/100\n",
      "10000/10000 [==============================] - 0s - loss: 0.3274 - mean_squared_error: 0.3274 - val_loss: 0.3850 - val_mean_squared_error: 0.3850\n",
      "Epoch 35/100\n",
      "10000/10000 [==============================] - 0s - loss: 0.3272 - mean_squared_error: 0.3272 - val_loss: 0.3866 - val_mean_squared_error: 0.3866\n",
      "Epoch 36/100\n",
      "10000/10000 [==============================] - 0s - loss: 0.3261 - mean_squared_error: 0.3261 - val_loss: 0.3888 - val_mean_squared_error: 0.3888\n",
      "Epoch 37/100\n",
      "10000/10000 [==============================] - 0s - loss: 0.3267 - mean_squared_error: 0.3267 - val_loss: 0.3898 - val_mean_squared_error: 0.3898\n",
      "Epoch 38/100\n",
      "10000/10000 [==============================] - 0s - loss: 0.3259 - mean_squared_error: 0.3259 - val_loss: 0.3802 - val_mean_squared_error: 0.3802\n",
      "Epoch 39/100\n",
      "10000/10000 [==============================] - 0s - loss: 0.3254 - mean_squared_error: 0.3254 - val_loss: 0.3857 - val_mean_squared_error: 0.3857\n",
      "Epoch 40/100\n",
      "10000/10000 [==============================] - 0s - loss: 0.3248 - mean_squared_error: 0.3248 - val_loss: 0.3828 - val_mean_squared_error: 0.3828\n",
      "Epoch 41/100\n",
      "10000/10000 [==============================] - 0s - loss: 0.3252 - mean_squared_error: 0.3252 - val_loss: 0.3830 - val_mean_squared_error: 0.3830\n",
      "Epoch 42/100\n",
      "10000/10000 [==============================] - 0s - loss: 0.3246 - mean_squared_error: 0.3246 - val_loss: 0.3822 - val_mean_squared_error: 0.3822\n",
      "Epoch 43/100\n",
      "10000/10000 [==============================] - 0s - loss: 0.3237 - mean_squared_error: 0.3237 - val_loss: 0.3869 - val_mean_squared_error: 0.3869\n",
      "Epoch 44/100\n",
      "10000/10000 [==============================] - 0s - loss: 0.3230 - mean_squared_error: 0.3230 - val_loss: 0.3868 - val_mean_squared_error: 0.3868\n",
      "Epoch 45/100\n",
      "10000/10000 [==============================] - 0s - loss: 0.3235 - mean_squared_error: 0.3235 - val_loss: 0.3819 - val_mean_squared_error: 0.3819\n",
      "Epoch 46/100\n",
      "10000/10000 [==============================] - 0s - loss: 0.3230 - mean_squared_error: 0.3230 - val_loss: 0.3824 - val_mean_squared_error: 0.3824\n",
      "Epoch 47/100\n",
      "10000/10000 [==============================] - 0s - loss: 0.3222 - mean_squared_error: 0.3222 - val_loss: 0.3830 - val_mean_squared_error: 0.3830\n",
      "Epoch 48/100\n",
      "10000/10000 [==============================] - 0s - loss: 0.3225 - mean_squared_error: 0.3225 - val_loss: 0.3813 - val_mean_squared_error: 0.3813\n",
      "Epoch 49/100\n",
      "10000/10000 [==============================] - 0s - loss: 0.3226 - mean_squared_error: 0.3226 - val_loss: 0.3946 - val_mean_squared_error: 0.3946\n",
      "Epoch 50/100\n",
      "10000/10000 [==============================] - 0s - loss: 0.3219 - mean_squared_error: 0.3219 - val_loss: 0.3848 - val_mean_squared_error: 0.3848\n",
      "Epoch 51/100\n",
      "10000/10000 [==============================] - 0s - loss: 0.3224 - mean_squared_error: 0.3224 - val_loss: 0.3870 - val_mean_squared_error: 0.3870\n",
      "Epoch 52/100\n"
     ]
    },
    {
     "name": "stdout",
     "output_type": "stream",
     "text": [
      "10000/10000 [==============================] - 0s - loss: 0.3212 - mean_squared_error: 0.3212 - val_loss: 0.3816 - val_mean_squared_error: 0.3816\n",
      "Epoch 53/100\n",
      "10000/10000 [==============================] - 0s - loss: 0.3217 - mean_squared_error: 0.3217 - val_loss: 0.3806 - val_mean_squared_error: 0.3806\n",
      "Epoch 54/100\n",
      "10000/10000 [==============================] - 0s - loss: 0.3203 - mean_squared_error: 0.3203 - val_loss: 0.3826 - val_mean_squared_error: 0.3826\n",
      "Epoch 55/100\n",
      "10000/10000 [==============================] - 0s - loss: 0.3202 - mean_squared_error: 0.3202 - val_loss: 0.3868 - val_mean_squared_error: 0.3868\n",
      "Epoch 56/100\n",
      "10000/10000 [==============================] - 0s - loss: 0.3198 - mean_squared_error: 0.3198 - val_loss: 0.3845 - val_mean_squared_error: 0.3845\n",
      "Epoch 57/100\n",
      "10000/10000 [==============================] - 0s - loss: 0.3200 - mean_squared_error: 0.3200 - val_loss: 0.3818 - val_mean_squared_error: 0.3818\n",
      "Epoch 58/100\n",
      "10000/10000 [==============================] - 0s - loss: 0.3194 - mean_squared_error: 0.3194 - val_loss: 0.3881 - val_mean_squared_error: 0.3881\n",
      "Epoch 59/100\n",
      "10000/10000 [==============================] - 0s - loss: 0.3197 - mean_squared_error: 0.3197 - val_loss: 0.3834 - val_mean_squared_error: 0.3834\n",
      "Epoch 60/100\n",
      "10000/10000 [==============================] - 0s - loss: 0.3191 - mean_squared_error: 0.3191 - val_loss: 0.3842 - val_mean_squared_error: 0.3842\n",
      "Epoch 61/100\n",
      "10000/10000 [==============================] - 0s - loss: 0.3188 - mean_squared_error: 0.3188 - val_loss: 0.3856 - val_mean_squared_error: 0.3856\n",
      "Epoch 62/100\n",
      "10000/10000 [==============================] - 0s - loss: 0.3203 - mean_squared_error: 0.3203 - val_loss: 0.3793 - val_mean_squared_error: 0.3793\n",
      "Epoch 63/100\n",
      "10000/10000 [==============================] - 0s - loss: 0.3188 - mean_squared_error: 0.3188 - val_loss: 0.3795 - val_mean_squared_error: 0.3795\n",
      "Epoch 64/100\n",
      "10000/10000 [==============================] - 0s - loss: 0.3186 - mean_squared_error: 0.3186 - val_loss: 0.3846 - val_mean_squared_error: 0.3846\n",
      "Epoch 65/100\n",
      "10000/10000 [==============================] - 0s - loss: 0.3190 - mean_squared_error: 0.3190 - val_loss: 0.3810 - val_mean_squared_error: 0.3810\n",
      "Epoch 66/100\n",
      "10000/10000 [==============================] - 0s - loss: 0.3181 - mean_squared_error: 0.3181 - val_loss: 0.3860 - val_mean_squared_error: 0.3860\n",
      "Epoch 67/100\n",
      "10000/10000 [==============================] - 0s - loss: 0.3179 - mean_squared_error: 0.3179 - val_loss: 0.3820 - val_mean_squared_error: 0.3820\n",
      "Epoch 68/100\n",
      "10000/10000 [==============================] - 0s - loss: 0.3176 - mean_squared_error: 0.3176 - val_loss: 0.3804 - val_mean_squared_error: 0.3804\n",
      "Epoch 69/100\n",
      "10000/10000 [==============================] - 0s - loss: 0.3182 - mean_squared_error: 0.3182 - val_loss: 0.3935 - val_mean_squared_error: 0.3935\n",
      "Epoch 70/100\n",
      "10000/10000 [==============================] - 0s - loss: 0.3176 - mean_squared_error: 0.3176 - val_loss: 0.3883 - val_mean_squared_error: 0.3883\n",
      "Epoch 71/100\n",
      "10000/10000 [==============================] - 0s - loss: 0.3177 - mean_squared_error: 0.3177 - val_loss: 0.3787 - val_mean_squared_error: 0.3787\n",
      "Epoch 72/100\n",
      "10000/10000 [==============================] - 0s - loss: 0.3177 - mean_squared_error: 0.3177 - val_loss: 0.3850 - val_mean_squared_error: 0.3850\n",
      "Epoch 73/100\n",
      "10000/10000 [==============================] - 0s - loss: 0.3175 - mean_squared_error: 0.3175 - val_loss: 0.3799 - val_mean_squared_error: 0.3799\n",
      "Epoch 74/100\n",
      "10000/10000 [==============================] - 0s - loss: 0.3172 - mean_squared_error: 0.3172 - val_loss: 0.3886 - val_mean_squared_error: 0.3886\n",
      "Epoch 75/100\n",
      "10000/10000 [==============================] - 0s - loss: 0.3179 - mean_squared_error: 0.3179 - val_loss: 0.3865 - val_mean_squared_error: 0.3865\n",
      "Epoch 76/100\n",
      "10000/10000 [==============================] - 0s - loss: 0.3171 - mean_squared_error: 0.3171 - val_loss: 0.3842 - val_mean_squared_error: 0.3842\n",
      "Epoch 77/100\n",
      "10000/10000 [==============================] - 0s - loss: 0.3169 - mean_squared_error: 0.3169 - val_loss: 0.3809 - val_mean_squared_error: 0.3809\n",
      "Epoch 78/100\n",
      "10000/10000 [==============================] - 0s - loss: 0.3170 - mean_squared_error: 0.3170 - val_loss: 0.3800 - val_mean_squared_error: 0.3800\n",
      "Epoch 79/100\n",
      "10000/10000 [==============================] - 0s - loss: 0.3166 - mean_squared_error: 0.3166 - val_loss: 0.3788 - val_mean_squared_error: 0.3788\n",
      "Epoch 80/100\n",
      "10000/10000 [==============================] - 0s - loss: 0.3166 - mean_squared_error: 0.3166 - val_loss: 0.3856 - val_mean_squared_error: 0.3856\n",
      "Epoch 81/100\n",
      "10000/10000 [==============================] - 0s - loss: 0.3162 - mean_squared_error: 0.3162 - val_loss: 0.3844 - val_mean_squared_error: 0.3844\n",
      "Epoch 82/100\n",
      "10000/10000 [==============================] - 0s - loss: 0.3162 - mean_squared_error: 0.3162 - val_loss: 0.3852 - val_mean_squared_error: 0.3852\n",
      "Epoch 83/100\n",
      "10000/10000 [==============================] - 0s - loss: 0.3160 - mean_squared_error: 0.3160 - val_loss: 0.3857 - val_mean_squared_error: 0.3857\n",
      "Epoch 84/100\n",
      "10000/10000 [==============================] - 0s - loss: 0.3158 - mean_squared_error: 0.3158 - val_loss: 0.3816 - val_mean_squared_error: 0.3816\n",
      "Epoch 85/100\n",
      "10000/10000 [==============================] - 0s - loss: 0.3156 - mean_squared_error: 0.3156 - val_loss: 0.3858 - val_mean_squared_error: 0.3858\n",
      "Epoch 86/100\n",
      "10000/10000 [==============================] - 0s - loss: 0.3163 - mean_squared_error: 0.3163 - val_loss: 0.3790 - val_mean_squared_error: 0.3790\n",
      "Epoch 87/100\n",
      "10000/10000 [==============================] - 0s - loss: 0.3158 - mean_squared_error: 0.3158 - val_loss: 0.3815 - val_mean_squared_error: 0.3815\n",
      "Epoch 88/100\n",
      "10000/10000 [==============================] - 0s - loss: 0.3149 - mean_squared_error: 0.3149 - val_loss: 0.3864 - val_mean_squared_error: 0.3864\n",
      "Epoch 89/100\n",
      "10000/10000 [==============================] - 0s - loss: 0.3152 - mean_squared_error: 0.3152 - val_loss: 0.3812 - val_mean_squared_error: 0.3812\n",
      "Epoch 90/100\n",
      "10000/10000 [==============================] - 0s - loss: 0.3149 - mean_squared_error: 0.3149 - val_loss: 0.3805 - val_mean_squared_error: 0.3805\n",
      "Epoch 91/100\n",
      "10000/10000 [==============================] - 0s - loss: 0.3151 - mean_squared_error: 0.3151 - val_loss: 0.3763 - val_mean_squared_error: 0.3763\n",
      "Epoch 92/100\n",
      "10000/10000 [==============================] - 0s - loss: 0.3151 - mean_squared_error: 0.3151 - val_loss: 0.3801 - val_mean_squared_error: 0.3801\n",
      "Epoch 93/100\n",
      "10000/10000 [==============================] - 0s - loss: 0.3142 - mean_squared_error: 0.3142 - val_loss: 0.3805 - val_mean_squared_error: 0.3805\n",
      "Epoch 94/100\n",
      "10000/10000 [==============================] - 0s - loss: 0.3142 - mean_squared_error: 0.3142 - val_loss: 0.3893 - val_mean_squared_error: 0.3893\n",
      "Epoch 95/100\n",
      "10000/10000 [==============================] - 0s - loss: 0.3140 - mean_squared_error: 0.3140 - val_loss: 0.3807 - val_mean_squared_error: 0.3807\n",
      "Epoch 96/100\n",
      "10000/10000 [==============================] - 0s - loss: 0.3143 - mean_squared_error: 0.3143 - val_loss: 0.3784 - val_mean_squared_error: 0.3784\n",
      "Epoch 97/100\n",
      "10000/10000 [==============================] - 0s - loss: 0.3143 - mean_squared_error: 0.3143 - val_loss: 0.3814 - val_mean_squared_error: 0.3814\n",
      "Epoch 98/100\n",
      "10000/10000 [==============================] - 0s - loss: 0.3135 - mean_squared_error: 0.3135 - val_loss: 0.3878 - val_mean_squared_error: 0.3878\n",
      "Epoch 99/100\n",
      "10000/10000 [==============================] - 0s - loss: 0.3133 - mean_squared_error: 0.3133 - val_loss: 0.3768 - val_mean_squared_error: 0.3768.\n",
      "Epoch 100/100\n",
      "10000/10000 [==============================] - 0s - loss: 0.3135 - mean_squared_error: 0.3135 - val_loss: 0.3761 - val_mean_squared_error: 0.3761\n"
     ]
    },
    {
     "data": {
      "text/plain": [
       "<keras.callbacks.History at 0x1a2676bd30>"
      ]
     },
     "execution_count": 144,
     "metadata": {},
     "output_type": "execute_result"
    }
   ],
   "source": [
    "from keras import optimizers\n",
    "opt = optimizers.Adam(lr=0.001)\n",
    "model.compile(optimizer=opt, loss='mean_squared_error', metrics=['mean_squared_error'])\n",
    "model.fit(xstrain, ystrain, epochs=100, batch_size=100, validation_data=(xstest,ystest))"
   ]
  },
  {
   "cell_type": "markdown",
   "metadata": {},
   "source": [
    "#### 5.4 Predict target value on test data\n",
    "We try to predict the target value on both training data and test data, and evaluate the accurate by Normalized RSS"
   ]
  },
  {
   "cell_type": "code",
   "execution_count": 145,
   "metadata": {},
   "outputs": [
    {
     "name": "stdout",
     "output_type": "stream",
     "text": [
      "Normalized RSS training = 0.240515\n",
      "Normalized RSS test = 0.347188\n"
     ]
    }
   ],
   "source": [
    "ys_tr_pred = np.squeeze(model.predict(xstrain))\n",
    "RSStrain = np.mean(((ys_tr_pred-ystrain)**2)/(np.std(ystrain)**2))\n",
    "print(\"Normalized RSS training = {0:f}\".format(RSStrain))\n",
    "\n",
    "ys_ts_pred = np.squeeze(model.predict(xstest))\n",
    "RSStest = np.mean(((ys_ts_pred-ystest)**2)/(np.std(ystest)**2))\n",
    "print(\"Normalized RSS test = {0:f}\".format(RSStest))"
   ]
  },
  {
   "cell_type": "code",
   "execution_count": 150,
   "metadata": {},
   "outputs": [
    {
     "data": {
      "image/png": "[encoded data removed]",
      "text/plain": [
       "<matplotlib.figure.Figure at 0x1a273c1da0>"
      ]
     },
     "metadata": {},
     "output_type": "display_data"
    }
   ],
   "source": [
    "plt.scatter(ystest,ys_ts_pred)\n",
    "plt.plot([-2,5],[-2,5],'r')\n",
    "plt.xlabel('Actual')\n",
    "plt.ylabel('Predicted')\n",
    "plt.grid(True)"
   ]
  },
  {
   "cell_type": "markdown",
   "metadata": {},
   "source": [
    "The Neural Network can achieve the best prediction accuracy"
   ]
  },
  {
   "cell_type": "markdown",
   "metadata": {},
   "source": [
    "### 6. Conclusion\n",
    "From all the tests we conducted, we believe that the model of pm2.5 prediction is likely to be a linear model\n",
    "\n",
    "We have further get the conclusion between different models:\n",
    "1. Simple first-order linear regression: Normalized RSS = 0.542290\n",
    "2. Third-order linear regression: Normalized RSS = 0.417474\n",
    "3. Third-order linear regression with LASSO L1 Regularization: Normalized RSS = 0.417535\n",
    "4. Neural Network with 20 hidden-units: Normalized RSS = 0.347188"
   ]
  },
  {
   "cell_type": "code",
   "execution_count": null,
   "metadata": {
    "collapsed": true
   },
   "outputs": [],
   "source": []
  }
 ],
 "metadata": {
  "kernelspec": {
   "display_name": "Python 3",
   "language": "python",
   "name": "python3"
  },
  "language_info": {
   "codemirror_mode": {
    "name": "ipython",
    "version": 3
   },
   "file_extension": ".py",
   "mimetype": "text/x-python",
   "name": "python",
   "nbconvert_exporter": "python",
   "pygments_lexer": "ipython3",
   "version": "3.6.3"
  }
 },
 "nbformat": 4,
 "nbformat_minor": 2
}
